{
 "cells": [
  {
   "cell_type": "code",
   "execution_count": 1,
   "id": "5001e33e",
   "metadata": {},
   "outputs": [
    {
     "name": "stdout",
     "output_type": "stream",
     "text": [
      "/home/ania/BridgeHand2Vec\n"
     ]
    }
   ],
   "source": [
    "%cd ../.."
   ]
  },
  {
   "cell_type": "markdown",
   "id": "fe9fcfc6",
   "metadata": {},
   "source": [
    "### Opening bid classification"
   ]
  },
  {
   "cell_type": "code",
   "execution_count": 2,
   "id": "68682889",
   "metadata": {},
   "outputs": [],
   "source": [
    "import torch\n",
    "import matplotlib.pyplot as plt\n",
    "import seaborn as sns\n",
    "import pandas as pd\n",
    "import numpy as np\n",
    "import os\n",
    "from sklearn.manifold import TSNE\n",
    "from bh2vec.vectors_net import VectorsNetNorm\n",
    "from bh2vec.tools import hand_to_vec, predict_tricks, vec_to_hand, load_vectors_for_hands"
   ]
  },
  {
   "cell_type": "code",
   "execution_count": 3,
   "id": "c632726c",
   "metadata": {},
   "outputs": [],
   "source": [
    "sns.set_style('whitegrid')"
   ]
  },
  {
   "cell_type": "code",
   "execution_count": 4,
   "id": "ca0c4663",
   "metadata": {},
   "outputs": [],
   "source": [
    "PATH = 'evaluation/data/openings'"
   ]
  },
  {
   "cell_type": "code",
   "execution_count": 5,
   "id": "8f544e08",
   "metadata": {},
   "outputs": [],
   "source": [
    "df_train = pd.read_csv(os.path.join(PATH, 'train.csv'), sep=';', index_col=0)\n",
    "df_test = pd.read_csv(os.path.join(PATH, 'test.csv'), sep=';', index_col=0)"
   ]
  },
  {
   "cell_type": "code",
   "execution_count": 6,
   "id": "2e5e6d75",
   "metadata": {},
   "outputs": [
    {
     "data": {
      "text/html": [
       "<div>\n",
       "<style scoped>\n",
       "    .dataframe tbody tr th:only-of-type {\n",
       "        vertical-align: middle;\n",
       "    }\n",
       "\n",
       "    .dataframe tbody tr th {\n",
       "        vertical-align: top;\n",
       "    }\n",
       "\n",
       "    .dataframe thead th {\n",
       "        text-align: right;\n",
       "    }\n",
       "</style>\n",
       "<table border=\"1\" class=\"dataframe\">\n",
       "  <thead>\n",
       "    <tr style=\"text-align: right;\">\n",
       "      <th></th>\n",
       "      <th>PBN</th>\n",
       "      <th>OPENING</th>\n",
       "    </tr>\n",
       "  </thead>\n",
       "  <tbody>\n",
       "    <tr>\n",
       "      <th>0</th>\n",
       "      <td>KQJ4.7.AT87.KQ74</td>\n",
       "      <td>1D</td>\n",
       "    </tr>\n",
       "    <tr>\n",
       "      <th>1</th>\n",
       "      <td>QT943.7654.42.A7</td>\n",
       "      <td>PASS</td>\n",
       "    </tr>\n",
       "    <tr>\n",
       "      <th>2</th>\n",
       "      <td>AJ7.AQ8754.T4.J5</td>\n",
       "      <td>1H</td>\n",
       "    </tr>\n",
       "    <tr>\n",
       "      <th>3</th>\n",
       "      <td>AT987.Q86.KQ4.43</td>\n",
       "      <td>1S</td>\n",
       "    </tr>\n",
       "    <tr>\n",
       "      <th>4</th>\n",
       "      <td>J84.T87.6543.QJ9</td>\n",
       "      <td>PASS</td>\n",
       "    </tr>\n",
       "    <tr>\n",
       "      <th>...</th>\n",
       "      <td>...</td>\n",
       "      <td>...</td>\n",
       "    </tr>\n",
       "    <tr>\n",
       "      <th>995</th>\n",
       "      <td>QT7.AQ9.QT9.T875</td>\n",
       "      <td>PASS</td>\n",
       "    </tr>\n",
       "    <tr>\n",
       "      <th>996</th>\n",
       "      <td>AJ3.AJT76.753.K3</td>\n",
       "      <td>1H</td>\n",
       "    </tr>\n",
       "    <tr>\n",
       "      <th>997</th>\n",
       "      <td>K972.98.AKJ.A842</td>\n",
       "      <td>1N</td>\n",
       "    </tr>\n",
       "    <tr>\n",
       "      <th>998</th>\n",
       "      <td>4.J52.A85.KJT976</td>\n",
       "      <td>PASS</td>\n",
       "    </tr>\n",
       "    <tr>\n",
       "      <th>999</th>\n",
       "      <td>K9763.T4.QJ843.Q</td>\n",
       "      <td>2S</td>\n",
       "    </tr>\n",
       "  </tbody>\n",
       "</table>\n",
       "<p>1000 rows × 2 columns</p>\n",
       "</div>"
      ],
      "text/plain": [
       "                  PBN OPENING\n",
       "0    KQJ4.7.AT87.KQ74      1D\n",
       "1    QT943.7654.42.A7    PASS\n",
       "2    AJ7.AQ8754.T4.J5      1H\n",
       "3    AT987.Q86.KQ4.43      1S\n",
       "4    J84.T87.6543.QJ9    PASS\n",
       "..                ...     ...\n",
       "995  QT7.AQ9.QT9.T875    PASS\n",
       "996  AJ3.AJT76.753.K3      1H\n",
       "997  K972.98.AKJ.A842      1N\n",
       "998  4.J52.A85.KJT976    PASS\n",
       "999  K9763.T4.QJ843.Q      2S\n",
       "\n",
       "[1000 rows x 2 columns]"
      ]
     },
     "execution_count": 6,
     "metadata": {},
     "output_type": "execute_result"
    }
   ],
   "source": [
    "df_train.reset_index(inplace=True, drop=True)\n",
    "df_train"
   ]
  },
  {
   "cell_type": "code",
   "execution_count": 7,
   "id": "ce5e27b4",
   "metadata": {},
   "outputs": [
    {
     "data": {
      "text/html": [
       "<div>\n",
       "<style scoped>\n",
       "    .dataframe tbody tr th:only-of-type {\n",
       "        vertical-align: middle;\n",
       "    }\n",
       "\n",
       "    .dataframe tbody tr th {\n",
       "        vertical-align: top;\n",
       "    }\n",
       "\n",
       "    .dataframe thead th {\n",
       "        text-align: right;\n",
       "    }\n",
       "</style>\n",
       "<table border=\"1\" class=\"dataframe\">\n",
       "  <thead>\n",
       "    <tr style=\"text-align: right;\">\n",
       "      <th></th>\n",
       "      <th>PBN</th>\n",
       "      <th>OPENING</th>\n",
       "    </tr>\n",
       "  </thead>\n",
       "  <tbody>\n",
       "    <tr>\n",
       "      <th>0</th>\n",
       "      <td>6.AJT.AJT862.AKQ</td>\n",
       "      <td>1C</td>\n",
       "    </tr>\n",
       "    <tr>\n",
       "      <th>1</th>\n",
       "      <td>AKQJ42.A.764.JT6</td>\n",
       "      <td>1S</td>\n",
       "    </tr>\n",
       "    <tr>\n",
       "      <th>2</th>\n",
       "      <td>J953.K962.653.A4</td>\n",
       "      <td>PASS</td>\n",
       "    </tr>\n",
       "    <tr>\n",
       "      <th>3</th>\n",
       "      <td>AQJ3.KJ.64.KJT85</td>\n",
       "      <td>1C</td>\n",
       "    </tr>\n",
       "    <tr>\n",
       "      <th>4</th>\n",
       "      <td>QJ872.984.A4.K75</td>\n",
       "      <td>PASS</td>\n",
       "    </tr>\n",
       "    <tr>\n",
       "      <th>...</th>\n",
       "      <td>...</td>\n",
       "      <td>...</td>\n",
       "    </tr>\n",
       "    <tr>\n",
       "      <th>208</th>\n",
       "      <td>QJT4.J8.QJ64.743</td>\n",
       "      <td>PASS</td>\n",
       "    </tr>\n",
       "    <tr>\n",
       "      <th>209</th>\n",
       "      <td>K93.872.J9763.A5</td>\n",
       "      <td>PASS</td>\n",
       "    </tr>\n",
       "    <tr>\n",
       "      <th>210</th>\n",
       "      <td>KJ9.Q54.J94.8732</td>\n",
       "      <td>PASS</td>\n",
       "    </tr>\n",
       "    <tr>\n",
       "      <th>211</th>\n",
       "      <td>5.KT.Q984.AKQ976</td>\n",
       "      <td>1C</td>\n",
       "    </tr>\n",
       "    <tr>\n",
       "      <th>212</th>\n",
       "      <td>QJ864.AQT2.T6.K2</td>\n",
       "      <td>1S</td>\n",
       "    </tr>\n",
       "  </tbody>\n",
       "</table>\n",
       "<p>213 rows × 2 columns</p>\n",
       "</div>"
      ],
      "text/plain": [
       "                  PBN OPENING\n",
       "0    6.AJT.AJT862.AKQ      1C\n",
       "1    AKQJ42.A.764.JT6      1S\n",
       "2    J953.K962.653.A4    PASS\n",
       "3    AQJ3.KJ.64.KJT85      1C\n",
       "4    QJ872.984.A4.K75    PASS\n",
       "..                ...     ...\n",
       "208  QJT4.J8.QJ64.743    PASS\n",
       "209  K93.872.J9763.A5    PASS\n",
       "210  KJ9.Q54.J94.8732    PASS\n",
       "211  5.KT.Q984.AKQ976      1C\n",
       "212  QJ864.AQT2.T6.K2      1S\n",
       "\n",
       "[213 rows x 2 columns]"
      ]
     },
     "execution_count": 7,
     "metadata": {},
     "output_type": "execute_result"
    }
   ],
   "source": [
    "df_test.reset_index(inplace=True, drop=True)\n",
    "df_test"
   ]
  },
  {
   "cell_type": "code",
   "execution_count": 8,
   "id": "a80ba8a0",
   "metadata": {},
   "outputs": [
    {
     "data": {
      "text/plain": [
       "PASS    549\n",
       "1C      127\n",
       "1H       76\n",
       "1D       64\n",
       "1S       64\n",
       "1N       51\n",
       "2C       22\n",
       "2D       14\n",
       "3C       11\n",
       "2S        6\n",
       "3D        4\n",
       "2H        3\n",
       "3S        3\n",
       "2N        3\n",
       "4H        2\n",
       "3H        1\n",
       "Name: OPENING, dtype: int64"
      ]
     },
     "execution_count": 8,
     "metadata": {},
     "output_type": "execute_result"
    }
   ],
   "source": [
    "df_train['OPENING'].value_counts()"
   ]
  },
  {
   "cell_type": "code",
   "execution_count": 9,
   "id": "8516d671",
   "metadata": {},
   "outputs": [
    {
     "data": {
      "text/plain": [
       "PASS    116\n",
       "1C       33\n",
       "1S       18\n",
       "1D       15\n",
       "1H       10\n",
       "2C        7\n",
       "1N        5\n",
       "2H        3\n",
       "2D        2\n",
       "3D        2\n",
       "2S        1\n",
       "3C        1\n",
       "Name: OPENING, dtype: int64"
      ]
     },
     "execution_count": 9,
     "metadata": {},
     "output_type": "execute_result"
    }
   ],
   "source": [
    "df_test['OPENING'].value_counts()"
   ]
  },
  {
   "cell_type": "code",
   "execution_count": 10,
   "id": "22e7d71c",
   "metadata": {},
   "outputs": [],
   "source": [
    "sorter = ['PASS', '1C', '1D', '1H', '1S', '1N', '2C', '2D', '2H', '2S', '2N', '3C', '3D', '3H', '3S', '4H']"
   ]
  },
  {
   "cell_type": "code",
   "execution_count": 11,
   "id": "f3d8e129",
   "metadata": {},
   "outputs": [],
   "source": [
    "df_train['OPENING'] = df_train['OPENING'].astype(\"category\")\n",
    "df_train['OPENING'] = df_train['OPENING'].cat.set_categories(sorter)"
   ]
  },
  {
   "cell_type": "code",
   "execution_count": 12,
   "id": "e433624a",
   "metadata": {},
   "outputs": [
    {
     "data": {
      "text/html": [
       "<div>\n",
       "<style scoped>\n",
       "    .dataframe tbody tr th:only-of-type {\n",
       "        vertical-align: middle;\n",
       "    }\n",
       "\n",
       "    .dataframe tbody tr th {\n",
       "        vertical-align: top;\n",
       "    }\n",
       "\n",
       "    .dataframe thead th {\n",
       "        text-align: right;\n",
       "    }\n",
       "</style>\n",
       "<table border=\"1\" class=\"dataframe\">\n",
       "  <thead>\n",
       "    <tr style=\"text-align: right;\">\n",
       "      <th></th>\n",
       "      <th>PBN</th>\n",
       "      <th>OPENING</th>\n",
       "    </tr>\n",
       "  </thead>\n",
       "  <tbody>\n",
       "    <tr>\n",
       "      <th>346</th>\n",
       "      <td>Q72.K5.JT7.A8532</td>\n",
       "      <td>PASS</td>\n",
       "    </tr>\n",
       "    <tr>\n",
       "      <th>384</th>\n",
       "      <td>832.AK97.73.J762</td>\n",
       "      <td>PASS</td>\n",
       "    </tr>\n",
       "    <tr>\n",
       "      <th>610</th>\n",
       "      <td>K87632.65.T9.T92</td>\n",
       "      <td>PASS</td>\n",
       "    </tr>\n",
       "    <tr>\n",
       "      <th>382</th>\n",
       "      <td>JT72.KJ.A7632.42</td>\n",
       "      <td>PASS</td>\n",
       "    </tr>\n",
       "    <tr>\n",
       "      <th>381</th>\n",
       "      <td>85.73.KT87.K9874</td>\n",
       "      <td>PASS</td>\n",
       "    </tr>\n",
       "    <tr>\n",
       "      <th>...</th>\n",
       "      <td>...</td>\n",
       "      <td>...</td>\n",
       "    </tr>\n",
       "    <tr>\n",
       "      <th>801</th>\n",
       "      <td>JT9853.8.T9643.8</td>\n",
       "      <td>3S</td>\n",
       "    </tr>\n",
       "    <tr>\n",
       "      <th>172</th>\n",
       "      <td>JT96543.2.4.JT42</td>\n",
       "      <td>3S</td>\n",
       "    </tr>\n",
       "    <tr>\n",
       "      <th>129</th>\n",
       "      <td>KQJ5432.932.72.J</td>\n",
       "      <td>3S</td>\n",
       "    </tr>\n",
       "    <tr>\n",
       "      <th>316</th>\n",
       "      <td>.KQJT732.9.T9654</td>\n",
       "      <td>4H</td>\n",
       "    </tr>\n",
       "    <tr>\n",
       "      <th>56</th>\n",
       "      <td>72.AKQJT873.5.72</td>\n",
       "      <td>4H</td>\n",
       "    </tr>\n",
       "  </tbody>\n",
       "</table>\n",
       "<p>1000 rows × 2 columns</p>\n",
       "</div>"
      ],
      "text/plain": [
       "                  PBN OPENING\n",
       "346  Q72.K5.JT7.A8532    PASS\n",
       "384  832.AK97.73.J762    PASS\n",
       "610  K87632.65.T9.T92    PASS\n",
       "382  JT72.KJ.A7632.42    PASS\n",
       "381  85.73.KT87.K9874    PASS\n",
       "..                ...     ...\n",
       "801  JT9853.8.T9643.8      3S\n",
       "172  JT96543.2.4.JT42      3S\n",
       "129  KQJ5432.932.72.J      3S\n",
       "316  .KQJT732.9.T9654      4H\n",
       "56   72.AKQJT873.5.72      4H\n",
       "\n",
       "[1000 rows x 2 columns]"
      ]
     },
     "execution_count": 12,
     "metadata": {},
     "output_type": "execute_result"
    }
   ],
   "source": [
    "df_train.sort_values(['OPENING'])"
   ]
  },
  {
   "cell_type": "code",
   "execution_count": 13,
   "id": "6ad500fb",
   "metadata": {},
   "outputs": [
    {
     "data": {
      "image/png": "[encoded data removed]",
      "text/plain": [
       "<Figure size 640x480 with 1 Axes>"
      ]
     },
     "metadata": {},
     "output_type": "display_data"
    }
   ],
   "source": [
    "ax = sns.histplot(data=df_train, y=\"OPENING\");\n",
    "ax.set(ylabel='Opening');"
   ]
  },
  {
   "cell_type": "code",
   "execution_count": 25,
   "id": "ea5b5270",
   "metadata": {},
   "outputs": [],
   "source": [
    "PATH = 'models/model.pth'\n",
    "net = VectorsNetNorm()\n",
    "net.load_state_dict(torch.load(PATH))\n",
    "net.eval()\n",
    "vec_train = load_vectors_for_hands(net, df_train, hand_col='PBN')\n",
    "vec_test = load_vectors_for_hands(net, df_test, hand_col='PBN')"
   ]
  },
  {
   "cell_type": "code",
   "execution_count": 26,
   "id": "d0e836d4",
   "metadata": {},
   "outputs": [],
   "source": [
    "vec_cols = ['vec' + str(i) for i in range(8)]\n",
    "emb_cols = ['emb0', 'emb1']\n",
    "df_train[vec_cols] = vec_train\n",
    "df_test[vec_cols] = vec_test"
   ]
  },
  {
   "cell_type": "markdown",
   "id": "5630e324",
   "metadata": {},
   "source": [
    "#### T-SNE plot"
   ]
  },
  {
   "cell_type": "code",
   "execution_count": 27,
   "id": "e08bf3a7",
   "metadata": {},
   "outputs": [],
   "source": [
    "vec_embedded_train = TSNE(n_components=2, learning_rate='auto', init='random', method='exact',\n",
    "                          perplexity=10, n_iter=1000, random_state=0).fit_transform(vec_train)"
   ]
  },
  {
   "cell_type": "code",
   "execution_count": 28,
   "id": "8ef74923",
   "metadata": {},
   "outputs": [],
   "source": [
    "df_train[emb_cols] = vec_embedded_train"
   ]
  },
  {
   "cell_type": "code",
   "execution_count": 29,
   "id": "240578f9",
   "metadata": {},
   "outputs": [],
   "source": [
    "df_plot = df_train[df_train['OPENING'].isin(['PASS', '1C', '1D', '1H', '1S', '1N', '2C', '2D', '2H', '2S'])].copy()"
   ]
  },
  {
   "cell_type": "code",
   "execution_count": 30,
   "id": "4ac14b16",
   "metadata": {},
   "outputs": [],
   "source": [
    "df_plot['OPENING'] = df_plot['OPENING'].astype('str')\n",
    "df_plot['OPENING'] = df_plot['OPENING'].astype(\"category\")\n",
    "sorter2 = ['PASS', '1C', '1D', '1H', '1S', '1N', '2C', '2D', '2H', '2S']\n",
    "df_plot['OPENING'] = df_plot['OPENING'].cat.set_categories(sorter2)"
   ]
  },
  {
   "cell_type": "code",
   "execution_count": 31,
   "id": "3470a2a6",
   "metadata": {},
   "outputs": [
    {
     "data": {
      "text/plain": [
       "['PASS', '1C', '1D', '1H', '1S', '1N', '2C', '2D', '2H', '2S']"
      ]
     },
     "execution_count": 31,
     "metadata": {},
     "output_type": "execute_result"
    }
   ],
   "source": [
    "sorter2"
   ]
  },
  {
   "cell_type": "code",
   "execution_count": 32,
   "id": "b275dc6b",
   "metadata": {},
   "outputs": [],
   "source": [
    "new_labels = ['pass', '$1\\clubsuit$', '$1\\diamondsuit$', '$1\\heartsuit$', '$1\\spadesuit$', '$1NT$', \n",
    "             '$2\\clubsuit$', '$2\\diamondsuit$', '$2\\heartsuit$', '$2\\spadesuit$']"
   ]
  },
  {
   "cell_type": "code",
   "execution_count": 33,
   "id": "bece021e",
   "metadata": {},
   "outputs": [
    {
     "data": {
      "image/png": "[encoded data removed]",
      "text/plain": [
       "<Figure size 400x400 with 1 Axes>"
      ]
     },
     "metadata": {},
     "output_type": "display_data"
    }
   ],
   "source": [
    "plt.figure(figsize=(4,4))\n",
    "g = sns.scatterplot(data=df_plot, x='emb0', y='emb1', hue='OPENING', palette=\"bright\");\n",
    "g.set(xlabel=None);\n",
    "g.set(ylabel=None);\n",
    "leg = g.legend()\n",
    "for t, l in zip(leg.texts, new_labels):\n",
    "    t.set_text(l)\n",
    "#g.legend(loc='upper left', bbox_to_anchor=(1, 1.02047), ncol=1);\n",
    "#plt.savefig('results/figs/openings_tsne.pdf')"
   ]
  },
  {
   "cell_type": "markdown",
   "id": "3c4fc85b",
   "metadata": {},
   "source": [
    "#### KNN"
   ]
  },
  {
   "cell_type": "code",
   "execution_count": 34,
   "id": "baaee7c4",
   "metadata": {},
   "outputs": [],
   "source": [
    "from sklearn.neighbors import KNeighborsClassifier\n",
    "import category_encoders as ce"
   ]
  },
  {
   "cell_type": "code",
   "execution_count": 35,
   "id": "c1d20dc6",
   "metadata": {},
   "outputs": [],
   "source": [
    "enc_ohe = ce.one_hot.OneHotEncoder(cols=['OPENING'], use_cat_names=True)\n",
    "X_train = vec_train\n",
    "y_train = enc_ohe.fit_transform(df_train['OPENING'])"
   ]
  },
  {
   "cell_type": "code",
   "execution_count": 51,
   "id": "66b998b2",
   "metadata": {},
   "outputs": [
    {
     "data": {
      "text/html": [
       "<style>#sk-container-id-6 {color: black;background-color: white;}#sk-container-id-6 pre{padding: 0;}#sk-container-id-6 div.sk-toggleable {background-color: white;}#sk-container-id-6 label.sk-toggleable__label {cursor: pointer;display: block;width: 100%;margin-bottom: 0;padding: 0.3em;box-sizing: border-box;text-align: center;}#sk-container-id-6 label.sk-toggleable__label-arrow:before {content: \"▸\";float: left;margin-right: 0.25em;color: #696969;}#sk-container-id-6 label.sk-toggleable__label-arrow:hover:before {color: black;}#sk-container-id-6 div.sk-estimator:hover label.sk-toggleable__label-arrow:before {color: black;}#sk-container-id-6 div.sk-toggleable__content {max-height: 0;max-width: 0;overflow: hidden;text-align: left;background-color: #f0f8ff;}#sk-container-id-6 div.sk-toggleable__content pre {margin: 0.2em;color: black;border-radius: 0.25em;background-color: #f0f8ff;}#sk-container-id-6 input.sk-toggleable__control:checked~div.sk-toggleable__content {max-height: 200px;max-width: 100%;overflow: auto;}#sk-container-id-6 input.sk-toggleable__control:checked~label.sk-toggleable__label-arrow:before {content: \"▾\";}#sk-container-id-6 div.sk-estimator input.sk-toggleable__control:checked~label.sk-toggleable__label {background-color: #d4ebff;}#sk-container-id-6 div.sk-label input.sk-toggleable__control:checked~label.sk-toggleable__label {background-color: #d4ebff;}#sk-container-id-6 input.sk-hidden--visually {border: 0;clip: rect(1px 1px 1px 1px);clip: rect(1px, 1px, 1px, 1px);height: 1px;margin: -1px;overflow: hidden;padding: 0;position: absolute;width: 1px;}#sk-container-id-6 div.sk-estimator {font-family: monospace;background-color: #f0f8ff;border: 1px dotted black;border-radius: 0.25em;box-sizing: border-box;margin-bottom: 0.5em;}#sk-container-id-6 div.sk-estimator:hover {background-color: #d4ebff;}#sk-container-id-6 div.sk-parallel-item::after {content: \"\";width: 100%;border-bottom: 1px solid gray;flex-grow: 1;}#sk-container-id-6 div.sk-label:hover label.sk-toggleable__label {background-color: #d4ebff;}#sk-container-id-6 div.sk-serial::before {content: \"\";position: absolute;border-left: 1px solid gray;box-sizing: border-box;top: 0;bottom: 0;left: 50%;z-index: 0;}#sk-container-id-6 div.sk-serial {display: flex;flex-direction: column;align-items: center;background-color: white;padding-right: 0.2em;padding-left: 0.2em;position: relative;}#sk-container-id-6 div.sk-item {position: relative;z-index: 1;}#sk-container-id-6 div.sk-parallel {display: flex;align-items: stretch;justify-content: center;background-color: white;position: relative;}#sk-container-id-6 div.sk-item::before, #sk-container-id-6 div.sk-parallel-item::before {content: \"\";position: absolute;border-left: 1px solid gray;box-sizing: border-box;top: 0;bottom: 0;left: 50%;z-index: -1;}#sk-container-id-6 div.sk-parallel-item {display: flex;flex-direction: column;z-index: 1;position: relative;background-color: white;}#sk-container-id-6 div.sk-parallel-item:first-child::after {align-self: flex-end;width: 50%;}#sk-container-id-6 div.sk-parallel-item:last-child::after {align-self: flex-start;width: 50%;}#sk-container-id-6 div.sk-parallel-item:only-child::after {width: 0;}#sk-container-id-6 div.sk-dashed-wrapped {border: 1px dashed gray;margin: 0 0.4em 0.5em 0.4em;box-sizing: border-box;padding-bottom: 0.4em;background-color: white;}#sk-container-id-6 div.sk-label label {font-family: monospace;font-weight: bold;display: inline-block;line-height: 1.2em;}#sk-container-id-6 div.sk-label-container {text-align: center;}#sk-container-id-6 div.sk-container {/* jupyter's `normalize.less` sets `[hidden] { display: none; }` but bootstrap.min.css set `[hidden] { display: none !important; }` so we also need the `!important` here to be able to override the default hidden behavior on the sphinx rendered scikit-learn.org. See: https://github.com/scikit-learn/scikit-learn/issues/21755 */display: inline-block !important;position: relative;}#sk-container-id-6 div.sk-text-repr-fallback {display: none;}</style><div id=\"sk-container-id-6\" class=\"sk-top-container\"><div class=\"sk-text-repr-fallback\"><pre>KNeighborsClassifier(n_neighbors=1)</pre><b>In a Jupyter environment, please rerun this cell to show the HTML representation or trust the notebook. <br />On GitHub, the HTML representation is unable to render, please try loading this page with nbviewer.org.</b></div><div class=\"sk-container\" hidden><div class=\"sk-item\"><div class=\"sk-estimator sk-toggleable\"><input class=\"sk-toggleable__control sk-hidden--visually\" id=\"sk-estimator-id-6\" type=\"checkbox\" checked><label for=\"sk-estimator-id-6\" class=\"sk-toggleable__label sk-toggleable__label-arrow\">KNeighborsClassifier</label><div class=\"sk-toggleable__content\"><pre>KNeighborsClassifier(n_neighbors=1)</pre></div></div></div></div></div>"
      ],
      "text/plain": [
       "KNeighborsClassifier(n_neighbors=1)"
      ]
     },
     "execution_count": 51,
     "metadata": {},
     "output_type": "execute_result"
    }
   ],
   "source": [
    "neigh = KNeighborsClassifier(n_neighbors=1)\n",
    "neigh.fit(X_train, y_train)"
   ]
  },
  {
   "cell_type": "code",
   "execution_count": 52,
   "id": "cc73f703",
   "metadata": {},
   "outputs": [],
   "source": [
    "X_test = vec_test\n",
    "y_test = enc_ohe.transform(df_test['OPENING'])"
   ]
  },
  {
   "cell_type": "code",
   "execution_count": 53,
   "id": "a48c2745",
   "metadata": {},
   "outputs": [
    {
     "data": {
      "text/plain": [
       "0.6948356807511737"
      ]
     },
     "execution_count": 53,
     "metadata": {},
     "output_type": "execute_result"
    }
   ],
   "source": [
    "neigh.score(X_test, y_test)"
   ]
  },
  {
   "cell_type": "markdown",
   "id": "261387cf",
   "metadata": {},
   "source": [
    "#### Controversial openings"
   ]
  },
  {
   "cell_type": "code",
   "execution_count": 41,
   "id": "f640c69f",
   "metadata": {},
   "outputs": [],
   "source": [
    "def print_nearest(hand, n=5):\n",
    "    hand_vec = hand_to_vec(net, hand).reshape(1, -1)\n",
    "    dist, idx = neigh.kneighbors(hand_vec, n_neighbors=n, return_distance=True)\n",
    "    idx = idx.reshape(-1,).tolist()\n",
    "    return df_train.iloc[idx][['PBN', 'OPENING']], dist"
   ]
  },
  {
   "cell_type": "code",
   "execution_count": 42,
   "id": "9c3d36c3",
   "metadata": {},
   "outputs": [
    {
     "name": "stdout",
     "output_type": "stream",
     "text": [
      "                  PBN OPENING\n",
      "498  AT98.Q975.K72.95    PASS\n",
      "448  Q974.AQ92.QJ2.83      1C\n",
      "436  Q87.K983.AQ6.643    PASS\n",
      "3    AT987.Q86.KQ4.43      1S\n",
      "601  Q32.AJ54.K974.J2    PASS\n",
      "873  AT82.K63.AJT.965      1C\n",
      "939  QT85.AT7.K75.865    PASS\n",
      "532  AJ2.K854.K65.984    PASS\n",
      "683  A742.Q97.K97.432    PASS\n",
      "895  AT863.QJ4.AQ83.9      1S\n",
      "[[0.93459229 0.9719548  1.02938767 1.23365574 1.25121629 1.31605957\n",
      "  1.36316919 1.3665158  1.37638345 1.38060587]]\n"
     ]
    }
   ],
   "source": [
    "hands, dist = print_nearest('AT65.KT65.KJ3.65', n=10)\n",
    "print(hands)\n",
    "print(dist)"
   ]
  },
  {
   "cell_type": "code",
   "execution_count": 43,
   "id": "ed2ee1aa",
   "metadata": {},
   "outputs": [
    {
     "name": "stdout",
     "output_type": "stream",
     "text": [
      "                  PBN OPENING\n",
      "973  KJT97.Q963.A65.9    PASS\n",
      "530  KQT73.A74.J976.Q      1S\n",
      "834  AQT54.T82.JT2.64    PASS\n",
      "866  AQJT63.K8.9732.4      1S\n",
      "232  AQJT6.J73.9864.J    PASS\n",
      "112  AQJ65.K962.84.83    PASS\n",
      "741  QJ97.A985.JT4.72    PASS\n",
      "253  KQJT7.A4.JT84.74      1S\n",
      "290  AT8432.K63.Q98.Q    PASS\n",
      "31   AQ8743.93.T32.T6      2D\n",
      "[[1.15186581 1.30750875 1.31098035 1.31116849 1.31575709 1.48348101\n",
      "  1.52293762 1.55792368 1.57572409 1.57980782]]\n"
     ]
    }
   ],
   "source": [
    "hands, dist = print_nearest('AK8765.Q76.J65.6', n=10)\n",
    "print(hands)\n",
    "print(dist)"
   ]
  },
  {
   "cell_type": "code",
   "execution_count": 44,
   "id": "82847af8",
   "metadata": {},
   "outputs": [
    {
     "name": "stdout",
     "output_type": "stream",
     "text": [
      "                  PBN OPENING\n",
      "124  KQT32.K9.AJ9.KT4      1N\n",
      "221  AQ94.A86.QJ5.Q95      1N\n",
      "960  AJT65.A4.K86.A73      1S\n",
      "278  KT75.A3.KJ85.K64      1C\n",
      "706  AJ9764.KQ.K83.A5      1C\n",
      "158  QJ73.AK.QJ5.A632      1N\n",
      "265  QJ83.Q74.AQ5.AT8      1N\n",
      "552  KJ92.A6.AJ832.Q7      1D\n",
      "831  KT53.A76.QJ94.A3      1C\n",
      "447  AT53.A65.J85.K83      1C\n",
      "[[1.21225028 1.22066906 1.2502347  1.29681825 1.43087654 1.44900451\n",
      "  1.55278342 1.60669666 1.64369587 1.64527956]]\n"
     ]
    }
   ],
   "source": [
    "hands, dist = print_nearest('AQ765.K5.QJ5.A65', n=10)\n",
    "print(hands)\n",
    "print(dist)"
   ]
  },
  {
   "cell_type": "code",
   "execution_count": 45,
   "id": "af37c4f1",
   "metadata": {},
   "outputs": [
    {
     "name": "stdout",
     "output_type": "stream",
     "text": [
      "                  PBN OPENING\n",
      "434  KT72.AK6.3.J8732      1C\n",
      "561  AQ5.QJ.852.AJ642      1C\n",
      "921  AJ72.KJT.3.AJ973      2C\n",
      "906  KQJT7.QT.2.AT852      1S\n",
      "901  Q852.AQ.983.Q965    PASS\n",
      "346  Q72.K5.JT7.A8532    PASS\n",
      "282  A63.KQ.A87.QJ865      1N\n",
      "147  QT4.KT7.432.A964    PASS\n",
      "227  AJT2.KQ8.74.AQ32      1N\n",
      "732  AKT95.K2.982.QJ3      1S\n",
      "[[1.48478614 1.65585817 1.66308108 1.73246183 1.78405413 1.86536944\n",
      "  1.94203827 1.95135535 1.98743489 1.99256783]]\n"
     ]
    }
   ],
   "source": [
    "hands, dist = print_nearest('AJT2.KQ.65.QJ654', n=10)\n",
    "print(hands)\n",
    "print(dist)"
   ]
  },
  {
   "cell_type": "code",
   "execution_count": 46,
   "id": "6297839c",
   "metadata": {},
   "outputs": [
    {
     "name": "stdout",
     "output_type": "stream",
     "text": [
      "                  PBN OPENING\n",
      "327  AQT7.AQ83.QJ97.6      1D\n",
      "516  AJ65.AQ62.J654.8      1D\n",
      "762  KQJ9.A96.A742.62      1N\n",
      "76   KQ93.A732.AT85.Q      1D\n",
      "383  AKJ54.KQ6.K86.T4      1S\n",
      "728  A542.AK6.AJ942.J      1D\n",
      "369  AQ74.AJ62.AQJ.T2      1C\n",
      "50   AQ4.A854.KT943.Q      1D\n",
      "473  AQ852.AQT76.AQ4.      1C\n",
      "21   KQ87.AJ.AJ862.J8      1D\n",
      "[[0.93659098 1.41666595 1.59932097 1.6148123  1.87575006 1.90658056\n",
      "  1.96225876 1.97651248 2.00515929 2.00564474]]\n"
     ]
    }
   ],
   "source": [
    "hands, dist = print_nearest('AK65.AK65.K765.6', n=10)\n",
    "print(hands)\n",
    "print(dist)"
   ]
  },
  {
   "cell_type": "code",
   "execution_count": null,
   "id": "2b8d677b",
   "metadata": {},
   "outputs": [],
   "source": []
  }
 ],
 "metadata": {
  "kernelspec": {
   "display_name": "Bridgevec 3.8.10",
   "language": "python",
   "name": "bridgevec"
  },
  "language_info": {
   "codemirror_mode": {
    "name": "ipython",
    "version": 3
   },
   "file_extension": ".py",
   "mimetype": "text/x-python",
   "name": "python",
   "nbconvert_exporter": "python",
   "pygments_lexer": "ipython3",
   "version": "3.8.10"
  }
 },
 "nbformat": 4,
 "nbformat_minor": 5
}
