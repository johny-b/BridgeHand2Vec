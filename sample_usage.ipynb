{
 "cells": [
  {
   "cell_type": "code",
   "execution_count": 3,
   "id": "a8af8d71-05f7-47c2-ac76-b022a276090b",
   "metadata": {
    "tags": []
   },
   "outputs": [],
   "source": [
    "import torch\n",
    "\n",
    "from bh2vec.vectors_net import VectorsNetNorm\n",
    "from bh2vec.tools import hand_to_vec, predict_tricks, vec_to_hand"
   ]
  },
  {
   "cell_type": "code",
   "execution_count": 4,
   "id": "e95adebe-885c-4140-8997-90ea40d941a1",
   "metadata": {
    "tags": []
   },
   "outputs": [
    {
     "data": {
      "text/plain": [
       "VectorsNetNorm(\n",
       "  (emb1): Linear(in_features=52, out_features=32, bias=True)\n",
       "  (emb2): Linear(in_features=32, out_features=32, bias=True)\n",
       "  (emb3): Linear(in_features=32, out_features=8, bias=True)\n",
       "  (act): ELU(alpha=1.0)\n",
       "  (batch_norm): BatchNorm1d(8, eps=1e-05, momentum=0.1, affine=False, track_running_stats=True)\n",
       "  (hid1): Linear(in_features=16, out_features=128, bias=True)\n",
       "  (hid2): Linear(in_features=128, out_features=128, bias=True)\n",
       "  (out): Linear(in_features=128, out_features=5, bias=True)\n",
       ")"
      ]
     },
     "execution_count": 4,
     "metadata": {},
     "output_type": "execute_result"
    }
   ],
   "source": [
    "net = VectorsNetNorm()\n",
    "net.load_state_dict(torch.load(\"model.pth\"))\n",
    "net.eval()"
   ]
  },
  {
   "cell_type": "code",
   "execution_count": 5,
   "id": "afa7be84-0bd2-4e4e-9c49-e5d90c47cc7f",
   "metadata": {
    "tags": []
   },
   "outputs": [],
   "source": [
    "hand_n = 'AQ72.KT632.AJ3.9'\n",
    "hand_s = 'K943.A.Q9876.KQ2'"
   ]
  },
  {
   "cell_type": "code",
   "execution_count": 6,
   "id": "75d3b6a6-eaa5-4147-adcd-dc65d50c2b5c",
   "metadata": {
    "tags": []
   },
   "outputs": [
    {
     "name": "stdout",
     "output_type": "stream",
     "text": [
      "Expected number of tricks for hands AQ72.KT632.AJ3.9 and K943.A.Q9876.KQ2:\n",
      " c: 7.047391891479492\n",
      " d: 11.495141983032227\n",
      " h: 9.340585708618164\n",
      " s: 11.595678329467773\n",
      " n: 10.315614700317383\n"
     ]
    }
   ],
   "source": [
    "tricks = predict_tricks(net, hand_n, hand_s).tolist()\n",
    "print(f\"Expected number of tricks for hands {hand_n} and {hand_s}:\")\n",
    "print(\"\\n\".join(list(f\" {suit}: {num_tricks}\" for suit, num_tricks in (zip('cdhsn', tricks)))))"
   ]
  },
  {
   "cell_type": "code",
   "execution_count": 13,
   "id": "c7b4375d-2ddb-47a0-87fb-8e6f0c0a3428",
   "metadata": {
    "tags": []
   },
   "outputs": [
    {
     "name": "stdout",
     "output_type": "stream",
     "text": [
      "Hand AQ72.KT632.AJ3.9 embedding:\n",
      "[-1.5299157   1.4496934   0.38851678  0.99312484  1.1259247  -0.47265995\n",
      "  0.85016537 -1.1033434 ]\n",
      "Hand K943.A.Q9876.KQ2 embedding:\n",
      "[ 1.3208004  -0.56439435 -1.1750376   1.2731268  -1.0533564  -0.34576744\n",
      " -0.54109645 -0.38238   ]\n"
     ]
    }
   ],
   "source": [
    "print(f\"Hand {hand_n} embedding:\\n{hand_to_vec(net, hand_n)}\")\n",
    "print(f\"Hand {hand_s} embedding:\\n{hand_to_vec(net, hand_s)}\")"
   ]
  },
  {
   "cell_type": "code",
   "execution_count": 15,
   "id": "9a7c9897-08df-4ee7-945c-b6350b1b71b1",
   "metadata": {
    "tags": []
   },
   "outputs": [
    {
     "name": "stdout",
     "output_type": "stream",
     "text": [
      "Hand nearest to [1, 1, 1, 1, 0, 0, 0, 0]: KQJ4.A8.K82.Q842\n"
     ]
    }
   ],
   "source": [
    "embedding = [1, 1, 1, 1, 0, 0, 0, 0]\n",
    "nearest_hand = vec_to_hand(net, embedding)\n",
    "print(f\"Hand nearest to {embedding}: {nearest_hand}\")"
   ]
  },
  {
   "cell_type": "code",
   "execution_count": 16,
   "id": "3982c688-21bc-4986-9efc-7894720fe125",
   "metadata": {
    "tags": []
   },
   "outputs": [
    {
     "name": "stdout",
     "output_type": "stream",
     "text": [
      "Hand opposite to AQ72.KT632.AJ3.9: 432.J.T542.KJT97\n"
     ]
    }
   ],
   "source": [
    "hand_n_embedding = hand_to_vec(net, hand_n)\n",
    "opposite_embedding = hand_n_embedding * -1\n",
    "opposite_hand = vec_to_hand(net, opposite_embedding)\n",
    "print(f\"Hand opposite to {hand_n}: {opposite_hand}\")"
   ]
  },
  {
   "cell_type": "code",
   "execution_count": 20,
   "id": "a8fa7b72-4100-4dd6-931e-ae9aa7d2c97f",
   "metadata": {
    "tags": []
   },
   "outputs": [
    {
     "name": "stdout",
     "output_type": "stream",
     "text": [
      "Hand AQ72.KT632.AJ3.9 lies between AK92.AQ6542.KJ4. and AT93.A987.QT9.JT\n"
     ]
    }
   ],
   "source": [
    "stronger_features_hand = vec_to_hand(net, hand_n_embedding * 1.5)\n",
    "weaker_features_hand = vec_to_hand(net, hand_n_embedding * 0.5)\n",
    "print(f\"Hand {hand_n} lies between {stronger_features_hand} and {weaker_features_hand}\")"
   ]
  },
  {
   "cell_type": "code",
   "execution_count": null,
   "id": "1ae98c49-4b28-4d66-ba6c-f5a3a6c639e5",
   "metadata": {},
   "outputs": [],
   "source": []
  }
 ],
 "metadata": {
  "kernelspec": {
   "display_name": "Python 3 (ipykernel)",
   "language": "python",
   "name": "python3"
  },
  "language_info": {
   "codemirror_mode": {
    "name": "ipython",
    "version": 3
   },
   "file_extension": ".py",
   "mimetype": "text/x-python",
   "name": "python",
   "nbconvert_exporter": "python",
   "pygments_lexer": "ipython3",
   "version": "3.7.16"
  }
 },
 "nbformat": 4,
 "nbformat_minor": 5
}
