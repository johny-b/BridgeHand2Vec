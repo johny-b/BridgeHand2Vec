{
 "cells": [
  {
   "cell_type": "markdown",
   "id": "a9e90f76",
   "metadata": {},
   "source": [
    "## $BridgeHand2Vec$ exemplary usages"
   ]
  },
  {
   "cell_type": "code",
   "execution_count": 2,
   "id": "a8af8d71-05f7-47c2-ac76-b022a276090b",
   "metadata": {
    "tags": []
   },
   "outputs": [],
   "source": [
    "import torch\n",
    "\n",
    "from bh2vec.vectors_net import VectorsNetNorm\n",
    "from bh2vec.tools import hand_to_vec, predict_tricks, vec_to_hand"
   ]
  },
  {
   "cell_type": "markdown",
   "id": "4e6b758d",
   "metadata": {},
   "source": [
    "Load model"
   ]
  },
  {
   "cell_type": "code",
   "execution_count": 3,
   "id": "e95adebe-885c-4140-8997-90ea40d941a1",
   "metadata": {
    "tags": []
   },
   "outputs": [
    {
     "data": {
      "text/plain": [
       "VectorsNetNorm(\n",
       "  (emb1): Linear(in_features=52, out_features=32, bias=True)\n",
       "  (emb2): Linear(in_features=32, out_features=32, bias=True)\n",
       "  (emb3): Linear(in_features=32, out_features=8, bias=True)\n",
       "  (act): ELU(alpha=1.0)\n",
       "  (batch_norm): BatchNorm1d(8, eps=1e-05, momentum=0.1, affine=False, track_running_stats=True)\n",
       "  (hid1): Linear(in_features=16, out_features=128, bias=True)\n",
       "  (hid2): Linear(in_features=128, out_features=128, bias=True)\n",
       "  (out): Linear(in_features=128, out_features=5, bias=True)\n",
       ")"
      ]
     },
     "execution_count": 3,
     "metadata": {},
     "output_type": "execute_result"
    }
   ],
   "source": [
    "net = VectorsNetNorm()\n",
    "net.load_state_dict(torch.load(\"model.pth\"))\n",
    "net.eval()"
   ]
  },
  {
   "cell_type": "markdown",
   "id": "a6ff7ac1",
   "metadata": {},
   "source": [
    "#### Vectorisation for a given hand\n",
    "\n",
    "<img src=\"pic/hand_vector.png\" />\n"
   ]
  },
  {
   "cell_type": "markdown",
   "id": "84e52a3c",
   "metadata": {},
   "source": [
    "![](attachment:hand_vector.png)"
   ]
  },
  {
   "cell_type": "code",
   "execution_count": 6,
   "id": "c7b4375d-2ddb-47a0-87fb-8e6f0c0a3428",
   "metadata": {
    "tags": []
   },
   "outputs": [
    {
     "data": {
      "text/plain": [
       "array([ 0.32584625,  0.4013694 ,  0.7301156 ,  1.2003264 ,  0.71336406,\n",
       "        0.5309806 , -2.7108538 , -1.5915561 ], dtype=float32)"
      ]
     },
     "execution_count": 6,
     "metadata": {},
     "output_type": "execute_result"
    }
   ],
   "source": [
    "hand = 'KQT875.KJ5.9.AQJ'\n",
    "hand_vec = hand_to_vec(net, hand)\n",
    "hand_vec"
   ]
  },
  {
   "cell_type": "markdown",
   "id": "c95e1583",
   "metadata": {},
   "source": [
    "#### Predict number of tricks"
   ]
  },
  {
   "cell_type": "code",
   "execution_count": 5,
   "id": "afa7be84-0bd2-4e4e-9c49-e5d90c47cc7f",
   "metadata": {
    "tags": []
   },
   "outputs": [],
   "source": [
    "hand_n = 'AQ72.KT632.AJ3.9'\n",
    "hand_s = 'K943.A.Q9876.KQ2'\n",
    "tricks = predict_tricks(net, hand_n, hand_s)"
   ]
  },
  {
   "cell_type": "markdown",
   "id": "2e9070ad",
   "metadata": {
    "tags": []
   },
   "source": [
    "Number of tricks in $\\clubsuit$, $\\diamondsuit$, $\\heartsuit$, $\\spadesuit$, and NT"
   ]
  },
  {
   "cell_type": "code",
   "execution_count": 10,
   "id": "0e9a9638",
   "metadata": {},
   "outputs": [
    {
     "data": {
      "text/plain": [
       "array([ 7.047392, 11.495142,  9.340586, 11.595678, 10.315615],\n",
       "      dtype=float32)"
      ]
     },
     "execution_count": 10,
     "metadata": {},
     "output_type": "execute_result"
    }
   ],
   "source": [
    "tricks"
   ]
  },
  {
   "cell_type": "markdown",
   "id": "67e68011",
   "metadata": {},
   "source": [
    "#### Hand nearest to a given vector"
   ]
  },
  {
   "cell_type": "code",
   "execution_count": 14,
   "id": "9a7c9897-08df-4ee7-945c-b6350b1b71b1",
   "metadata": {
    "tags": []
   },
   "outputs": [
    {
     "data": {
      "text/plain": [
       "'AK98.QT.K52.Q652'"
      ]
     },
     "execution_count": 14,
     "metadata": {},
     "output_type": "execute_result"
    }
   ],
   "source": [
    "embedding = [1, 1, 1, 1, 0, 0, 0, 0]\n",
    "nearest_hand = vec_to_hand(net, embedding)\n",
    "nearest_hand"
   ]
  },
  {
   "cell_type": "markdown",
   "id": "6cc0b1b8",
   "metadata": {},
   "source": [
    "#### Opposite hand\n",
    "(hand corresponding to -vec)"
   ]
  },
  {
   "cell_type": "code",
   "execution_count": 16,
   "id": "3982c688-21bc-4986-9efc-7894720fe125",
   "metadata": {
    "tags": []
   },
   "outputs": [
    {
     "name": "stdout",
     "output_type": "stream",
     "text": [
      "Hand opposite to AQ72.KT632.AJ3.9: 432.J.T542.KJT97\n"
     ]
    }
   ],
   "source": [
    "hand_n_embedding = hand_to_vec(net, hand_n)\n",
    "opposite_embedding = hand_n_embedding * -1\n",
    "opposite_hand = vec_to_hand(net, opposite_embedding)\n",
    "print(f\"Hand opposite to {hand_n}: {opposite_hand}\")"
   ]
  },
  {
   "cell_type": "markdown",
   "id": "db5b9690",
   "metadata": {},
   "source": [
    "#### Vector algebra"
   ]
  },
  {
   "cell_type": "code",
   "execution_count": 20,
   "id": "a8fa7b72-4100-4dd6-931e-ae9aa7d2c97f",
   "metadata": {
    "tags": []
   },
   "outputs": [
    {
     "name": "stdout",
     "output_type": "stream",
     "text": [
      "Hand AQ72.KT632.AJ3.9 lies between AK92.AQ6542.KJ4. and AT93.A987.QT9.JT\n"
     ]
    }
   ],
   "source": [
    "stronger_features_hand = vec_to_hand(net, hand_n_embedding * 1.5)\n",
    "weaker_features_hand = vec_to_hand(net, hand_n_embedding * 0.5)\n",
    "print(f\"Hand {hand_n} lies between {stronger_features_hand} and {weaker_features_hand}\")"
   ]
  },
  {
   "cell_type": "code",
   "execution_count": null,
   "id": "1ae98c49-4b28-4d66-ba6c-f5a3a6c639e5",
   "metadata": {},
   "outputs": [],
   "source": []
  }
 ],
 "metadata": {
  "kernelspec": {
   "display_name": "Python 3 (ipykernel)",
   "language": "python",
   "name": "python3"
  },
  "language_info": {
   "codemirror_mode": {
    "name": "ipython",
    "version": 3
   },
   "file_extension": ".py",
   "mimetype": "text/x-python",
   "name": "python",
   "nbconvert_exporter": "python",
   "pygments_lexer": "ipython3",
   "version": "3.11.1"
  }
 },
 "nbformat": 4,
 "nbformat_minor": 5
}
